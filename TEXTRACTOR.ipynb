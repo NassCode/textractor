{
 "cells": [
  {
   "cell_type": "code",
   "execution_count": null,
   "metadata": {},
   "outputs": [],
   "source": [
    "import os\n",
    "\n",
    "os.environ[\"GOOGLE_APPLICATION_CREDENTIALS\"]=\"<YOUR CLIENT SERVICE KEY PATH>.json\"\n",
    "\n",
    "gcs_uri = \"<YOUR FILE.wav URI>\""
   ]
  },
  {
   "cell_type": "code",
   "execution_count": null,
   "metadata": {},
   "outputs": [],
   "source": [
    "from google.cloud import speech\n",
    "\n",
    "client = speech.SpeechClient()"
   ]
  },
  {
   "cell_type": "code",
   "execution_count": null,
   "metadata": {},
   "outputs": [],
   "source": [
    "audio = speech.RecognitionAudio(uri=gcs_uri)\n",
    "config = speech.RecognitionConfig(\n",
    "    encoding=speech.RecognitionConfig.AudioEncoding.LINEAR16,\n",
    "    language_code=\"en-GB\",\n",
    "    audio_channel_count=2,\n",
    "    enable_word_time_offsets=True,\n",
    ")"
   ]
  },
  {
   "cell_type": "code",
   "execution_count": null,
   "metadata": {},
   "outputs": [],
   "source": [
    "operation = client.long_running_recognize(config=config, audio=audio)\n",
    "print(\"Waiting for operation to complete...\")\n",
    "result = operation.result()"
   ]
  },
  {
   "cell_type": "code",
   "execution_count": null,
   "metadata": {},
   "outputs": [],
   "source": [
    "from datetime import timedelta\n",
    "\n",
    "def secToTime(timeobj):\n",
    "    x = timeobj\n",
    "    time_obj_to_int = float(x)\n",
    "    total_seconds_to_time = timedelta(seconds=time_obj_to_int)\n",
    "    return str(total_seconds_to_time)"
   ]
  },
  {
   "cell_type": "code",
   "execution_count": null,
   "metadata": {},
   "outputs": [],
   "source": [
    "number_of_sentence = 1\n",
    "\n",
    "\n",
    "for result in result.results:\n",
    "    \n",
    "    alternative = result.alternatives[0]\n",
    "    sentence_content = f\"{alternative.transcript}\"\n",
    "   \n",
    "    times_list = []\n",
    "    \n",
    "    for word_info in alternative.words:\n",
    "\n",
    "        start_time = word_info.start_time\n",
    "        end_time = word_info.end_time\n",
    "        \n",
    "        times_list.append(f\"{start_time.total_seconds()}\")\n",
    "        times_list.append(f\"{end_time.total_seconds()}\")\n",
    "        \n",
    "    sentece_start_time = secToTime(times_list[0])\n",
    "    sentence_end_time = secToTime(times_list[-1])\n",
    "    \n",
    "    \n",
    "\n",
    "    print(f\"{number_of_sentence}\\n{sentece_start_time} --> {sentence_end_time}\\n{sentence_content}\\n\")\n",
    "    \n",
    "    number_of_sentence = number_of_sentence + 1"
   ]
  }
 ],
 "metadata": {
  "kernelspec": {
   "display_name": "Python 3",
   "language": "python",
   "name": "python3"
  },
  "language_info": {
   "codemirror_mode": {
    "name": "ipython",
    "version": 3
   },
   "file_extension": ".py",
   "mimetype": "text/x-python",
   "name": "python",
   "nbconvert_exporter": "python",
   "pygments_lexer": "ipython3",
   "version": "3.8.5"
  }
 },
 "nbformat": 4,
 "nbformat_minor": 4
}
